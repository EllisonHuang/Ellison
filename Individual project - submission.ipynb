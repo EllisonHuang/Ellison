{
 "cells": [
  {
   "cell_type": "markdown",
   "id": "76cd25ac",
   "metadata": {},
   "source": [
    "# For my first research, I want to see how frequently people visit their friends if they spend different times playing video games in 2023.\n",
    "\n",
    "The reason for doing this research is because I spend a lot of time playing video games, which results in less time socializing with friends in person. \n",
    " \n",
    "The reason for choosing data in 2023 was because COVID-19 was considered over at the beginning of 2023."
   ]
  },
  {
   "cell_type": "markdown",
   "id": "ddb1f083",
   "metadata": {},
   "source": [
    "# Variables: \n",
    "\n",
    "row 1339: Q117_17, CONNECTION_activities_computer_games_p3m, In the PAST THREE MONTH, how often have you... - played a computer or console (e.g., Wii, Xbox, PlayStation) game with others?\n",
    "\n",
    "row 1341: Q117_19, CONNECTION_activities_visited_friends_p3m, In the PAST THREE MONTH, how often have you... - visited with FRIENDS at your / their home?\n",
    "\n",
    "Q117_17 is to check how often a person spends on playing video games and Q117_19 tells how often the person visits their friends."
   ]
  },
  {
   "cell_type": "markdown",
   "id": "dbb54555",
   "metadata": {},
   "source": [
    "# Visual: violin plot\n",
    "\n",
    "Using a violin plot you would be able to group the playing time into daily, weekly, monthly, rarely and more at the x-axis. The y-axis would be how often they visit their friends."
   ]
  },
  {
   "cell_type": "markdown",
   "id": "ac64dd5f",
   "metadata": {},
   "source": [
    "# Analysis: Descriptive Statistics\n",
    "\n",
    "When trying to find whether each group would spend more time visiting friends we would look at the width of each violin. The wider section of the violin tells the user most of the people from this group often visit their friends at this frequency. The thick bar inside the violin would tell where the middle 50% leads. The upper and lower adjacent where most of the other 50% of data would lead on. there is also the little dot that is one individual data that is far away from the middle."
   ]
  },
  {
   "cell_type": "markdown",
   "id": "e91e792b",
   "metadata": {},
   "source": [
    "# Hypothesis:\n",
    "\n",
    "The hypothesis of the research would be that gaming time doesn't affect the visit friend frequency. Using this hypothesis because I want to have more gaming time does result in lower friend visits. "
   ]
  },
  {
   "cell_type": "markdown",
   "id": "16b95fd6",
   "metadata": {},
   "source": [
    "# My second research is about would a person be lonely even if they are married\n",
    "\n",
    "You always hear people say if you're married you won't feel lonely. By using the data given I want to see if is true or not."
   ]
  },
  {
   "cell_type": "markdown",
   "id": "c2f864c1",
   "metadata": {},
   "source": [
    "# Variables:\n",
    "    \n",
    "row 593: Q8_7, DEMO_relationship_status_married, What is your current relationship status? (Check all that apply) - Married\n",
    "\n",
    "row 505: Q45, LONELY_direct, During the PAST WEEK, have you felt lonely\n",
    "\n",
    "Q8_7 is to see if the person is married or not. Q45 is to find out would they fell loney even if they are married. "
   ]
  },
  {
   "cell_type": "markdown",
   "id": "f83be729",
   "metadata": {},
   "source": [
    "# Visual: bootstrap\n",
    "\n",
    "If we want to find out whether or not this is true you would want the result for almost the population so you could reject your hypothesis. Using bootstrapping you could easily estimate the result without taking over billions of data. "
   ]
  },
  {
   "cell_type": "markdown",
   "id": "e1ff2ce0",
   "metadata": {},
   "source": [
    "# Analysis:Bootstrapping\n",
    "\n",
    "For this bootstrap you will put all the people married on a line and rate it from feeling lonely all the time to none of the time. Using bootstrapping you would be able to plot a histogram and view the result."
   ]
  },
  {
   "cell_type": "markdown",
   "id": "db3621c5",
   "metadata": {},
   "source": [
    "# Hypothesis:\n",
    "\n",
    "To test this research's hypothesis, we would rank the loneliness level for all married people and find the mean of the original sample. Then you could bootstrap the sample many times to plot a histogram for calculating a 95% confidence interval and p-value to reject the hypothesis. "
   ]
  },
  {
   "cell_type": "markdown",
   "id": "075e0798",
   "metadata": {},
   "source": [
    "# My last research is about number of close friend for different age groups\n",
    "\n",
    "People in different age groups tend to have different numbers of close friends, would you wonder what the are numbers at each age group."
   ]
  },
  {
   "cell_type": "markdown",
   "id": "0078d45e",
   "metadata": {},
   "source": [
    "# Variables:\n",
    "\n",
    "row 22: Q4, DEMO_age, How old are you (in years)?\n",
    "row 583: Q1, DEMO_age, How old are you (in years)?\n",
    "row 1727: Q1, DEMO_age, How old are you (in years)?\n",
    "row 90: Q19, CONNECTION_social_num_close_friends_grouped, How many close friends do you have?\n",
    "row 458: Q19, CONNECTION_social_num_close_friends_grouped, How many close friends do you have?\n",
    "row 684: Q13, CONNECTION_social_num_close_friends_grouped, How many close friends do you have?\n",
    "row 1354: Q19, CONNECTION_social_num_close_friends_grouped, How many close friends do you have？\n",
    "\n",
    "Q4 and Q1 are the ages of people who did the survey. Q19 and Q13 is the number of close friends they have."
   ]
  },
  {
   "cell_type": "markdown",
   "id": "c3156f6a",
   "metadata": {},
   "source": [
    "# Visual: Multiple histograms.\n",
    "\n",
    "To compare the average close friends for each age group you would want to have a different histogram for each age group. The range of the age groups could be 18-25, 25-40, 40-60, and 60+.Plotting different histograms allows for easier comparing between groups, easier to test hypothesis or different results we try to use one or multiple age groups."
   ]
  },
  {
   "cell_type": "markdown",
   "id": "7897b7dc",
   "metadata": {},
   "source": [
    "# Analysis: Inferential Statistics\n",
    "\n",
    "Inferential statistics allows us to do the Hypothesis Testing, finding Confidence Intervals, Significance Levels and more.\n",
    "Finding the average of close friend we would calculate the sample mean, calculate the Standard Deviation, compute the Standard Error, determine the 95% Confidence Level and Calculate the Confidence Interval."
   ]
  },
  {
   "cell_type": "markdown",
   "id": "257dee67",
   "metadata": {},
   "source": [
    "# Hypothesis:\n",
    "\n",
    "The hypothesis could be trying to reject an age group that has fewer or many close friends. An example could be people over the age of 60 who have less than 2 close friends, Assuming the hypothesized mean is 2 and compare the p-value against your significance level you would be able to reject the hypothesis. You can also do simple hypotheses like comparing two age groups using their average."
   ]
  }
 ],
 "metadata": {
  "kernelspec": {
   "display_name": "Python 3 (ipykernel)",
   "language": "python",
   "name": "python3"
  },
  "language_info": {
   "codemirror_mode": {
    "name": "ipython",
    "version": 3
   },
   "file_extension": ".py",
   "mimetype": "text/x-python",
   "name": "python",
   "nbconvert_exporter": "python",
   "pygments_lexer": "ipython3",
   "version": "3.11.6"
  }
 },
 "nbformat": 4,
 "nbformat_minor": 5
}
